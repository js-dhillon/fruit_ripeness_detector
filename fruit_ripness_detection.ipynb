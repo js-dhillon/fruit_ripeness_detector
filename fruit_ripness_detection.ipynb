{
 "cells": [
  {
   "cell_type": "code",
   "execution_count": 30,
   "metadata": {},
   "outputs": [],
   "source": [
    "# imports\n",
    "import os\n",
    "import torch\n",
    "import torchvision\n",
    "from torch.utils.data import random_split"
   ]
  },
  {
   "cell_type": "code",
   "execution_count": 31,
   "metadata": {},
   "outputs": [
    {
     "data": {
      "text/plain": [
       "'cpu'"
      ]
     },
     "execution_count": 31,
     "metadata": {},
     "output_type": "execute_result"
    }
   ],
   "source": [
    "# Setup device agnostic code\n",
    "device = \"cuda\" if torch.cuda.is_available() else \"cpu\"\n",
    "device"
   ]
  },
  {
   "cell_type": "code",
   "execution_count": 32,
   "metadata": {},
   "outputs": [],
   "source": [
    "train_dataset_path='../ripeness/data/train'\n",
    "test_dataset_path='../ripeness/data/test'"
   ]
  },
  {
   "cell_type": "code",
   "execution_count": 33,
   "metadata": {},
   "outputs": [],
   "source": [
    "train_folder = os.listdir(train_dataset_path)\n",
    "test_folder = os.listdir(test_dataset_path)"
   ]
  },
  {
   "cell_type": "code",
   "execution_count": 34,
   "metadata": {},
   "outputs": [
    {
     "name": "stdout",
     "output_type": "stream",
     "text": [
      "Train Class:  9\n",
      "Test Class:  9\n"
     ]
    }
   ],
   "source": [
    "print(\"Train Class: \", len(train_folder))\n",
    "print(\"Test Class: \", len(test_folder))"
   ]
  },
  {
   "cell_type": "code",
   "execution_count": 35,
   "metadata": {},
   "outputs": [
    {
     "name": "stdout",
     "output_type": "stream",
     "text": [
      "['rotten banana', 'unripe banana', 'ripe banana', 'unripe orange', 'rotten apple', 'ripe orange', 'ripe apple', 'unripe apple', 'rotten orange']\n"
     ]
    }
   ],
   "source": [
    "print(train_folder)"
   ]
  },
  {
   "cell_type": "code",
   "execution_count": 36,
   "metadata": {},
   "outputs": [
    {
     "name": "stdout",
     "output_type": "stream",
     "text": [
      "['rotten banana', 'unripe banana', 'ripe banana', 'unripe orange', 'rotten apple', 'ripe orange', 'ripe apple', 'unripe apple', 'rotten orange']\n"
     ]
    }
   ],
   "source": [
    "print(test_folder)"
   ]
  },
  {
   "cell_type": "code",
   "execution_count": 37,
   "metadata": {},
   "outputs": [],
   "source": [
    "from torchvision.datasets import ImageFolder\n",
    "from torchvision.transforms import ToTensor"
   ]
  },
  {
   "cell_type": "code",
   "execution_count": 38,
   "metadata": {},
   "outputs": [
    {
     "name": "stdout",
     "output_type": "stream",
     "text": [
      "No. of training examples for plum files: 27\n",
      "['1_MlnSxRmKwt-os2w3zbLkXg.jpg', 'RottenApple (18).jpg', 'RottenApple (3).jpg', 'RottenApple (199).jpg', '1_5YEatWqtIXa27ANkZ3SlmA.jpg']\n"
     ]
    }
   ],
   "source": [
    "rotten_apple_files = os.listdir(train_dataset_path + \"/rotten apple\")\n",
    "print('No. of training examples for plum files:', len(rotten_apple_files))\n",
    "print(rotten_apple_files[:5])"
   ]
  },
  {
   "cell_type": "code",
   "execution_count": 39,
   "metadata": {},
   "outputs": [],
   "source": [
    "dataset = ImageFolder(train_dataset_path, transform=ToTensor())"
   ]
  },
  {
   "cell_type": "code",
   "execution_count": 40,
   "metadata": {},
   "outputs": [
    {
     "name": "stdout",
     "output_type": "stream",
     "text": [
      "img_shape: torch.Size([3, 677, 1024])\n",
      "label: 0\n"
     ]
    },
    {
     "data": {
      "text/plain": [
       "tensor([[[0.3137, 0.3098, 0.3020,  ..., 0.3529, 0.3569, 0.3529],\n",
       "         [0.3137, 0.3098, 0.3020,  ..., 0.2980, 0.3020, 0.2980],\n",
       "         [0.3137, 0.3098, 0.2980,  ..., 0.2549, 0.2588, 0.2588],\n",
       "         ...,\n",
       "         [0.4157, 0.4157, 0.4157,  ..., 0.5294, 0.5294, 0.5294],\n",
       "         [0.4118, 0.4157, 0.4157,  ..., 0.5294, 0.5255, 0.5255],\n",
       "         [0.4118, 0.4118, 0.4157,  ..., 0.5294, 0.5255, 0.5255]],\n",
       "\n",
       "        [[0.3294, 0.3255, 0.3176,  ..., 0.3373, 0.3412, 0.3373],\n",
       "         [0.3294, 0.3255, 0.3176,  ..., 0.2824, 0.2863, 0.2824],\n",
       "         [0.3255, 0.3216, 0.3098,  ..., 0.2392, 0.2431, 0.2431],\n",
       "         ...,\n",
       "         [0.5529, 0.5529, 0.5529,  ..., 0.5569, 0.5647, 0.5647],\n",
       "         [0.5490, 0.5529, 0.5529,  ..., 0.5569, 0.5608, 0.5608],\n",
       "         [0.5490, 0.5490, 0.5529,  ..., 0.5569, 0.5608, 0.5608]],\n",
       "\n",
       "        [[0.0392, 0.0353, 0.0275,  ..., 0.0863, 0.0902, 0.0863],\n",
       "         [0.0392, 0.0353, 0.0275,  ..., 0.0314, 0.0392, 0.0314],\n",
       "         [0.0471, 0.0431, 0.0314,  ..., 0.0000, 0.0039, 0.0000],\n",
       "         ...,\n",
       "         [0.0980, 0.0980, 0.0980,  ..., 0.0078, 0.0118, 0.0118],\n",
       "         [0.0941, 0.0980, 0.0980,  ..., 0.0078, 0.0078, 0.0078],\n",
       "         [0.0941, 0.0941, 0.0980,  ..., 0.0078, 0.0078, 0.0078]]])"
      ]
     },
     "execution_count": 40,
     "metadata": {},
     "output_type": "execute_result"
    }
   ],
   "source": [
    "img, label = dataset[0]\n",
    "print('img_shape:',img.shape)\n",
    "print('label:',label)\n",
    "img"
   ]
  },
  {
   "cell_type": "code",
   "execution_count": 41,
   "metadata": {},
   "outputs": [
    {
     "name": "stdout",
     "output_type": "stream",
     "text": [
      "['ripe apple', 'ripe banana', 'ripe orange', 'rotten apple', 'rotten banana', 'rotten orange', 'unripe apple', 'unripe banana', 'unripe orange']\n"
     ]
    }
   ],
   "source": [
    "print(dataset.classes)"
   ]
  },
  {
   "cell_type": "code",
   "execution_count": 42,
   "metadata": {},
   "outputs": [
    {
     "data": {
      "text/plain": [
       "EfficientNet_B0_Weights.IMAGENET1K_V1"
      ]
     },
     "execution_count": 42,
     "metadata": {},
     "output_type": "execute_result"
    }
   ],
   "source": [
    "# Get a set of pretrained model weights\n",
    "weights = torchvision.models.EfficientNet_B0_Weights.DEFAULT # .DEFAULT = best available weights from pretraining on ImageNet\n",
    "weights"
   ]
  },
  {
   "cell_type": "code",
   "execution_count": 43,
   "metadata": {},
   "outputs": [
    {
     "data": {
      "text/plain": [
       "ImageClassification(\n",
       "    crop_size=[224]\n",
       "    resize_size=[256]\n",
       "    mean=[0.485, 0.456, 0.406]\n",
       "    std=[0.229, 0.224, 0.225]\n",
       "    interpolation=InterpolationMode.BICUBIC\n",
       ")"
      ]
     },
     "execution_count": 43,
     "metadata": {},
     "output_type": "execute_result"
    }
   ],
   "source": [
    "# Get the transforms used to create our pretrained weights\n",
    "auto_transforms = weights.transforms()\n",
    "auto_transforms"
   ]
  },
  {
   "cell_type": "code",
   "execution_count": 44,
   "metadata": {},
   "outputs": [],
   "source": [
    "from torch.utils.data.dataloader import DataLoader\n",
    "batch_size=8"
   ]
  },
  {
   "cell_type": "code",
   "execution_count": 45,
   "metadata": {},
   "outputs": [],
   "source": [
    "from torchvision import datasets"
   ]
  },
  {
   "cell_type": "code",
   "execution_count": 46,
   "metadata": {},
   "outputs": [],
   "source": [
    "train_data = datasets.ImageFolder(train_dataset_path, transform=auto_transforms)\n",
    "test_data = datasets.ImageFolder(test_dataset_path, transform=auto_transforms)"
   ]
  },
  {
   "cell_type": "code",
   "execution_count": 47,
   "metadata": {},
   "outputs": [
    {
     "name": "stdout",
     "output_type": "stream",
     "text": [
      "img_shape: torch.Size([3, 224, 224])\n",
      "label: 0\n"
     ]
    },
    {
     "data": {
      "text/plain": [
       "tensor([[[ 0.4337,  0.5364,  0.7591,  ..., -0.9877, -1.1932, -1.2445],\n",
       "         [ 0.5536,  0.7248,  0.6906,  ..., -1.0390, -0.9877, -0.9363],\n",
       "         [ 0.7591,  0.7077,  0.6563,  ..., -1.0219, -0.8335, -0.5082],\n",
       "         ...,\n",
       "         [ 1.1187,  1.1358,  1.1187,  ...,  0.3309,  0.2967,  0.2282],\n",
       "         [ 1.0331,  1.0673,  1.0844,  ...,  0.2624,  0.2282,  0.1768],\n",
       "         [ 0.9303,  0.9817,  1.0502,  ...,  0.1768,  0.1083,  0.1254]],\n",
       "\n",
       "        [[ 0.9580,  1.0280,  1.2031,  ..., -0.8803, -1.0728, -1.1078],\n",
       "         [ 1.0980,  1.2556,  1.1856,  ..., -0.8803, -0.8452, -0.7577],\n",
       "         [ 1.0805,  1.0980,  1.1506,  ..., -0.7927, -0.6001, -0.2675],\n",
       "         ...,\n",
       "         [ 1.3256,  1.3081,  1.2906,  ...,  0.9755,  0.9580,  0.9580],\n",
       "         [ 1.2206,  1.2556,  1.2731,  ...,  0.8880,  0.8880,  0.9055],\n",
       "         [ 1.1155,  1.1856,  1.2206,  ...,  0.8179,  0.8004,  0.8354]],\n",
       "\n",
       "        [[-1.1073, -0.8110, -0.3753,  ..., -1.4559, -1.6127, -1.5604],\n",
       "         [-0.9156, -0.5321, -0.4101,  ..., -1.4036, -1.3164, -1.1596],\n",
       "         [-0.7587, -0.7587, -0.6018,  ..., -1.3861, -1.1596, -0.7587],\n",
       "         ...,\n",
       "         [-0.1835, -0.2184, -0.2184,  ..., -0.8458, -0.9330, -1.0376],\n",
       "         [-0.2881, -0.2532, -0.2184,  ..., -0.9504, -1.0550, -1.1247],\n",
       "         [-0.3927, -0.3404, -0.2707,  ..., -1.1596, -1.2816, -1.2990]]])"
      ]
     },
     "execution_count": 47,
     "metadata": {},
     "output_type": "execute_result"
    }
   ],
   "source": [
    "img, label = train_data[0]\n",
    "print('img_shape:',img.shape)\n",
    "print('label:',label)\n",
    "img"
   ]
  },
  {
   "cell_type": "code",
   "execution_count": 48,
   "metadata": {},
   "outputs": [
    {
     "data": {
      "text/plain": [
       "(<torch.utils.data.dataloader.DataLoader at 0x7f98766b3cd0>,\n",
       " <torch.utils.data.dataloader.DataLoader at 0x7f98766b21d0>)"
      ]
     },
     "execution_count": 48,
     "metadata": {},
     "output_type": "execute_result"
    }
   ],
   "source": [
    "train_dataloader =  DataLoader(\n",
    "      train_data,\n",
    "      batch_size=batch_size,\n",
    "      shuffle=True,\n",
    "      num_workers=4,\n",
    "      pin_memory=True,\n",
    "  )\n",
    "test_dataloader = DataLoader(\n",
    "      test_data,\n",
    "      batch_size=batch_size,\n",
    "      shuffle=False, # don't need to shuffle test data\n",
    "      num_workers=4,\n",
    "      pin_memory=True,\n",
    "  )\n",
    "\n",
    "train_dataloader, test_dataloader"
   ]
  },
  {
   "cell_type": "code",
   "execution_count": 49,
   "metadata": {},
   "outputs": [],
   "source": [
    "weights = torchvision.models.EfficientNet_B0_Weights.DEFAULT # .DEFAULT = best available weights \n",
    "model = torchvision.models.efficientnet_b0(weights=weights).to(device)"
   ]
  },
  {
   "cell_type": "code",
   "execution_count": 50,
   "metadata": {},
   "outputs": [],
   "source": [
    "# Freeze all base layers in the \"features\" section of the model (the feature extractor) by setting requires_grad=False\n",
    "for param in model.features.parameters():\n",
    "    param.requires_grad = False"
   ]
  },
  {
   "cell_type": "code",
   "execution_count": 51,
   "metadata": {},
   "outputs": [],
   "source": [
    "# Set the manual seeds\n",
    "torch.manual_seed(42)\n",
    "torch.cuda.manual_seed(42)\n",
    "\n",
    "# Get the length of class_names (one output unit for each class)\n",
    "output_shape = 9\n",
    "\n",
    "# Recreate the classifier layer and seed it to the target device\n",
    "model.classifier = torch.nn.Sequential(\n",
    "    torch.nn.Dropout(p=0.2, inplace=True), \n",
    "    torch.nn.Linear(in_features=1280, \n",
    "                    out_features=output_shape, # same number of output units as our number of classes\n",
    "                    bias=True)).to(device)"
   ]
  },
  {
   "cell_type": "code",
   "execution_count": 52,
   "metadata": {},
   "outputs": [],
   "source": [
    "# Define loss and optimizer\n",
    "loss_fn = torch.nn.CrossEntropyLoss()\n",
    "optimizer = torch.optim.Adam(model.parameters(), lr=0.001)"
   ]
  },
  {
   "cell_type": "code",
   "execution_count": 53,
   "metadata": {},
   "outputs": [],
   "source": [
    "import engine"
   ]
  },
  {
   "cell_type": "code",
   "execution_count": 54,
   "metadata": {},
   "outputs": [],
   "source": [
    "# Set the random seeds\n",
    "torch.manual_seed(42)\n",
    "torch.cuda.manual_seed(42)"
   ]
  },
  {
   "cell_type": "code",
   "execution_count": 55,
   "metadata": {},
   "outputs": [],
   "source": [
    "def train_one_epoch(epoch_index, tb_writer):\n",
    "    running_loss = 0.\n",
    "    last_loss = 0.\n",
    "\n",
    "    # Here, we use enumerate(training_loader) instead of\n",
    "    # iter(training_loader) so that we can track the batch\n",
    "    # index and do some intra-epoch reporting\n",
    "    for i, data in enumerate(train_dataloader):\n",
    "        # Every data instance is an input + label pair\n",
    "        inputs, labels = data\n",
    "\n",
    "        # Zero your gradients for every batch!\n",
    "        optimizer.zero_grad()\n",
    "\n",
    "        # Make predictions for this batch\n",
    "        outputs = model(inputs)\n",
    "\n",
    "        # Compute the loss and its gradients\n",
    "        loss = loss_fn(outputs, labels)\n",
    "        loss.backward()\n",
    "\n",
    "        # Adjust learning weights\n",
    "        optimizer.step()\n",
    "\n",
    "        # Gather data and report\n",
    "        running_loss += loss.item()\n",
    "        if i % 1000 == 999:\n",
    "            last_loss = running_loss / 1000 # loss per batch\n",
    "            print('  batch {} loss: {}'.format(i + 1, last_loss))\n",
    "            tb_x = epoch_index * len(train_dataloader) + i + 1\n",
    "            tb_writer.add_scalar('Loss/train', last_loss, tb_x)\n",
    "            running_loss = 0.\n",
    "\n",
    "    return last_loss"
   ]
  },
  {
   "cell_type": "code",
   "execution_count": 56,
   "metadata": {},
   "outputs": [
    {
     "data": {
      "application/vnd.jupyter.widget-view+json": {
       "model_id": "ddc190bc56f84feea213200513b1d1e7",
       "version_major": 2,
       "version_minor": 0
      },
      "text/plain": [
       "  0%|          | 0/5 [00:00<?, ?it/s]"
      ]
     },
     "metadata": {},
     "output_type": "display_data"
    },
    {
     "name": "stdout",
     "output_type": "stream",
     "text": [
      "Epoch: 1 | train_loss: 1.8890 | train_acc: 0.3105 | test_loss: 1.3814 | test_acc: 0.7917\n",
      "Epoch: 2 | train_loss: 1.2378 | train_acc: 0.7500 | test_loss: 1.0164 | test_acc: 0.8542\n",
      "Epoch: 3 | train_loss: 0.8873 | train_acc: 0.8669 | test_loss: 0.7881 | test_acc: 0.8229\n",
      "Epoch: 4 | train_loss: 0.7219 | train_acc: 0.9113 | test_loss: 0.7245 | test_acc: 0.8542\n",
      "Epoch: 5 | train_loss: 0.6810 | train_acc: 0.8508 | test_loss: 0.6310 | test_acc: 0.8542\n",
      "[INFO] Total training time: 261.781 seconds\n"
     ]
    }
   ],
   "source": [
    "# Set the random seeds\n",
    "torch.manual_seed(42)\n",
    "torch.cuda.manual_seed(42)\n",
    "\n",
    "# Start the timer\n",
    "from timeit import default_timer as timer \n",
    "start_time = timer()\n",
    "\n",
    "# Setup training and save the results\n",
    "results = engine.train(model=model,\n",
    "                       train_dataloader=train_dataloader,\n",
    "                       test_dataloader=test_dataloader,\n",
    "                       optimizer=optimizer,\n",
    "                       loss_fn=loss_fn,\n",
    "                       epochs=5,\n",
    "                       device=device)\n",
    "\n",
    "# End the timer and print out how long it took\n",
    "end_time = timer()\n",
    "print(f\"[INFO] Total training time: {end_time-start_time:.3f} seconds\")"
   ]
  },
  {
   "cell_type": "code",
   "execution_count": 57,
   "metadata": {},
   "outputs": [
    {
     "data": {
      "image/png": "[encoded data removed]",
      "text/plain": [
       "<Figure size 1500x700 with 2 Axes>"
      ]
     },
     "metadata": {},
     "output_type": "display_data"
    }
   ],
   "source": [
    "# Get the plot_loss_curves() function from helper_functions.py, download the file if we don't have it\n",
    "try:\n",
    "    from helper_functions import plot_loss_curves\n",
    "except:\n",
    "    print(\"[INFO] Couldn't find helper_functions.py, downloading...\")\n",
    "    with open(\"helper_functions.py\", \"wb\") as f:\n",
    "        import requests\n",
    "        request = requests.get(\"https://raw.githubusercontent.com/mrdbourke/pytorch-deep-learning/main/helper_functions.py\")\n",
    "        f.write(request.content)\n",
    "    from helper_functions import plot_loss_curves\n",
    "\n",
    "# Plot the loss curves of our model\n",
    "plot_loss_curves(results)"
   ]
  },
  {
   "cell_type": "code",
   "execution_count": 58,
   "metadata": {},
   "outputs": [],
   "source": [
    "torch.save(model.state_dict(), 'image_modelweights')\n",
    "torch.save(model,  \"image_entire_model\")"
   ]
  },
  {
   "cell_type": "markdown",
   "metadata": {},
   "source": [
    "predictions\n"
   ]
  },
  {
   "cell_type": "code",
   "execution_count": 59,
   "metadata": {},
   "outputs": [],
   "source": [
    "import matplotlib as plt"
   ]
  },
  {
   "cell_type": "code",
   "execution_count": 60,
   "metadata": {},
   "outputs": [],
   "source": [
    "from typing import List, Tuple\n",
    "\n",
    "from PIL import Image\n",
    "\n",
    "# 1. Take in a trained model, class names, image path, image size, a transform and target device\n",
    "def pred_and_plot_image(model: torch.nn.Module,\n",
    "                        image_path: str, \n",
    "                        class_names: List[str],\n",
    "                        image_size: Tuple[int, int] = (224, 224),\n",
    "                        transform: torchvision.transforms = None,\n",
    "                        device: torch.device=device):\n",
    "    \n",
    "    \n",
    "    # 2. Open image\n",
    "    img = Image.open(image_path)\n",
    "\n",
    "    # 3. Create transformation for image (if one doesn't exist)\n",
    "    if transform is not None:\n",
    "        image_transform = transform\n",
    "    else:\n",
    "        image_transform = transforms.Compose([\n",
    "            transforms.Resize(image_size),\n",
    "            transforms.ToTensor(),\n",
    "            transforms.Normalize(mean=[0.485, 0.456, 0.406],\n",
    "                                 std=[0.229, 0.224, 0.225]),\n",
    "        ])\n",
    "\n",
    "    ### Predict on image ### \n",
    "\n",
    "    # 4. Make sure the model is on the target device\n",
    "    model.to(device)\n",
    "\n",
    "    # 5. Turn on model evaluation mode and inference mode\n",
    "    model.eval()\n",
    "    with torch.inference_mode():\n",
    "      # 6. Transform and add an extra dimension to image (model requires samples in [batch_size, color_channels, height, width])\n",
    "      transformed_image = image_transform(img).unsqueeze(dim=0)\n",
    "\n",
    "      # 7. Make a prediction on image with an extra dimension and send it to the target device\n",
    "      target_image_pred = model(transformed_image.to(device))\n",
    "\n",
    "    # 8. Convert logits -> prediction probabilities (using torch.softmax() for multi-class classification)\n",
    "    target_image_pred_probs = torch.softmax(target_image_pred, dim=1)\n",
    "\n",
    "    # 9. Convert prediction probabilities -> prediction labels\n",
    "    target_image_pred_label = torch.argmax(target_image_pred_probs, dim=1)\n",
    "\n",
    "    # 10. Plot image with predicted label and probability \n",
    "    plt.figure()\n",
    "    plt.imshow(img)\n",
    "    plt.title(f\"Pred: {class_names[target_image_pred_label]} | Prob: {target_image_pred_probs.max():.3f}\")\n",
    "    plt.axis(False);"
   ]
  }
 ],
 "metadata": {
  "kernelspec": {
   "display_name": "Python 3",
   "language": "python",
   "name": "python3"
  },
  "language_info": {
   "codemirror_mode": {
    "name": "ipython",
    "version": 3
   },
   "file_extension": ".py",
   "mimetype": "text/x-python",
   "name": "python",
   "nbconvert_exporter": "python",
   "pygments_lexer": "ipython3",
   "version": "3.10.12"
  }
 },
 "nbformat": 4,
 "nbformat_minor": 2
}
